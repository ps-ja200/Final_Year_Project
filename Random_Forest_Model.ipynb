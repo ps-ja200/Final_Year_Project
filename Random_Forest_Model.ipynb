{
  "cells": [
    {
      "cell_type": "markdown",
      "metadata": {},
      "source": [
        "# MSME Forecasting - Full Notebook\n",
        "This notebook is part of a 4-notebook package: Linear Regression, SARIMA, Random Forest, and Model Comparison.\n",
        "Set `DATASET_INDEX` to choose which CSV from `final_msme_datasets` to use. Forecast horizon is monthly and default is 6 months.\n"
      ]
    },
    {
      "cell_type": "code",
      "execution_count": 1,
      "metadata": {},
      "outputs": [
        {
          "name": "stdout",
          "output_type": "stream",
          "text": [
            "helpers imported\n"
          ]
        }
      ],
      "source": [
        "# Shared imports and helper functions\n",
        "import os, glob\n",
        "import pandas as pd\n",
        "import numpy as np\n",
        "import matplotlib.pyplot as plt\n",
        "from sklearn.metrics import mean_absolute_error, mean_squared_error, r2_score\n",
        "print('helpers imported')\n",
        "def find_csv_files(base='final_msme_datasets'):\n",
        "    # return sorted csv files, handle nested folder\n",
        "    if not os.path.isdir(base):\n",
        "        return []\n",
        "    files = glob.glob(os.path.join(base, '*.csv'))\n",
        "    if len(files)==0:\n",
        "        # check nested\n",
        "        for d in os.listdir(base):\n",
        "            p = os.path.join(base,d)\n",
        "            if os.path.isdir(p):\n",
        "                files += glob.glob(os.path.join(p,'*.csv'))\n",
        "    return sorted(files)\n"
      ]
    },
    {
      "cell_type": "code",
      "execution_count": 2,
      "metadata": {},
      "outputs": [
        {
          "name": "stdout",
          "output_type": "stream",
          "text": [
            "Found 5 files\n",
            "Using final_msme_datasets\\final_msme_dataset_1.csv\n"
          ]
        }
      ],
      "source": [
        "from sklearn.ensemble import RandomForestRegressor\n",
        "DATASET_INDEX = 1\n",
        "HORIZON = 6\n",
        "files = find_csv_files()\n",
        "print('Found', len(files), 'files')\n",
        "dataset_path = files[DATASET_INDEX-1]\n",
        "df = pd.read_csv(dataset_path)\n",
        "print('Using', dataset_path)\n"
      ]
    },
    {
      "cell_type": "code",
      "execution_count": 3,
      "metadata": {},
      "outputs": [
        {
          "name": "stdout",
          "output_type": "stream",
          "text": [
            "Train/test shapes (800, 6) (200, 6)\n"
          ]
        }
      ],
      "source": [
        "# Preprocess\n",
        "df['Total Income (₹)'] = df['Sales Revenue (₹)'] + df['Service Fees (₹)']\n",
        "df['Total Expenses (₹)'] = df[['Rent (₹)','Utilities (₹)','Salaries & Wages (₹)','Raw Materials / Inventory (₹)','Transportation / Logistics (₹)','Loan Repayments & Interest (₹)']].sum(axis=1)\n",
        "df['Net Cash Flow (₹)'] = df['Total Income (₹)'] - df['Total Expenses (₹)']\n",
        "df['Month_Index'] = np.arange(1,len(df)+1)\n",
        "feature_cols = ['Month_Index','Number of Orders','Customers','Average Order Value','Seasonality_Flag','Fuel Price Index']\n",
        "for c in feature_cols:\n",
        "    if c not in df.columns:\n",
        "        df[c]=0\n",
        "X = df[feature_cols]\n",
        "y_inc = df['Total Income (₹)']\n",
        "y_exp = df['Total Expenses (₹)']\n",
        "train_size = int(0.8 * len(df))\n",
        "X_train, X_test = X.iloc[:train_size], X.iloc[train_size:]\n",
        "y_inc_train, y_inc_test = y_inc.iloc[:train_size], y_inc.iloc[train_size:]\n",
        "y_exp_train, y_exp_test = y_exp.iloc[:train_size], y_exp.iloc[train_size:]\n",
        "print('Train/test shapes', X_train.shape, X_test.shape)\n"
      ]
    },
    {
      "cell_type": "code",
      "execution_count": 5,
      "metadata": {},
      "outputs": [
        {
          "name": "stdout",
          "output_type": "stream",
          "text": [
            "RF Income -> MAE: 73478.41 RMSE: 93069.37 R2: 0.364\n",
            "RF Expenses-> MAE: 61431.75 RMSE: 74377.8 R2: -0.17\n"
          ]
        }
      ],
      "source": [
        "rf_inc = RandomForestRegressor(n_estimators=200, random_state=42).fit(X_train, y_inc_train)\n",
        "rf_exp = RandomForestRegressor(n_estimators=200, random_state=42).fit(X_train, y_exp_train)\n",
        "y_inc_pred = rf_inc.predict(X_test)\n",
        "y_exp_pred = rf_exp.predict(X_test)\n",
        "def metrics(y_true, y_pred):\n",
        "    mae = mean_absolute_error(y_true, y_pred)\n",
        "    rmse = np.sqrt(mean_squared_error(y_true, y_pred))\n",
        "    r2 = r2_score(y_true, y_pred)\n",
        "    return mae, rmse, r2\n",
        "inc_mae, inc_rmse, inc_r2 = metrics(y_inc_test, y_inc_pred)\n",
        "exp_mae, exp_rmse, exp_r2 = metrics(y_exp_test, y_exp_pred)\n",
        "print('RF Income -> MAE:', round(inc_mae,2), 'RMSE:', round(inc_rmse,2), 'R2:', round(inc_r2,3))\n",
        "print('RF Expenses-> MAE:', round(exp_mae,2), 'RMSE:', round(exp_rmse,2), 'R2:', round(exp_r2,3))\n"
      ]
    },
    {
      "cell_type": "code",
      "execution_count": 6,
      "metadata": {},
      "outputs": [
        {
          "data": {
            "text/html": [
              "<div>\n",
              "<style scoped>\n",
              "    .dataframe tbody tr th:only-of-type {\n",
              "        vertical-align: middle;\n",
              "    }\n",
              "\n",
              "    .dataframe tbody tr th {\n",
              "        vertical-align: top;\n",
              "    }\n",
              "\n",
              "    .dataframe thead th {\n",
              "        text-align: right;\n",
              "    }\n",
              "</style>\n",
              "<table border=\"1\" class=\"dataframe\">\n",
              "  <thead>\n",
              "    <tr style=\"text-align: right;\">\n",
              "      <th></th>\n",
              "      <th>Predicted_Income</th>\n",
              "      <th>Predicted_Expenses</th>\n",
              "      <th>Predicted_CashFlow</th>\n",
              "      <th>Alert</th>\n",
              "    </tr>\n",
              "  </thead>\n",
              "  <tbody>\n",
              "    <tr>\n",
              "      <th>0</th>\n",
              "      <td>381645.74</td>\n",
              "      <td>352829.34</td>\n",
              "      <td>28816.40</td>\n",
              "      <td>No</td>\n",
              "    </tr>\n",
              "    <tr>\n",
              "      <th>1</th>\n",
              "      <td>381645.74</td>\n",
              "      <td>352829.34</td>\n",
              "      <td>28816.40</td>\n",
              "      <td>No</td>\n",
              "    </tr>\n",
              "    <tr>\n",
              "      <th>2</th>\n",
              "      <td>381645.74</td>\n",
              "      <td>352829.34</td>\n",
              "      <td>28816.40</td>\n",
              "      <td>No</td>\n",
              "    </tr>\n",
              "    <tr>\n",
              "      <th>3</th>\n",
              "      <td>399747.26</td>\n",
              "      <td>341771.41</td>\n",
              "      <td>57975.86</td>\n",
              "      <td>No</td>\n",
              "    </tr>\n",
              "    <tr>\n",
              "      <th>4</th>\n",
              "      <td>399747.26</td>\n",
              "      <td>341771.41</td>\n",
              "      <td>57975.86</td>\n",
              "      <td>No</td>\n",
              "    </tr>\n",
              "    <tr>\n",
              "      <th>5</th>\n",
              "      <td>399747.26</td>\n",
              "      <td>341771.41</td>\n",
              "      <td>57975.86</td>\n",
              "      <td>No</td>\n",
              "    </tr>\n",
              "  </tbody>\n",
              "</table>\n",
              "</div>"
            ],
            "text/plain": [
              "   Predicted_Income  Predicted_Expenses  Predicted_CashFlow Alert\n",
              "0         381645.74           352829.34            28816.40    No\n",
              "1         381645.74           352829.34            28816.40    No\n",
              "2         381645.74           352829.34            28816.40    No\n",
              "3         399747.26           341771.41            57975.86    No\n",
              "4         399747.26           341771.41            57975.86    No\n",
              "5         399747.26           341771.41            57975.86    No"
            ]
          },
          "metadata": {},
          "output_type": "display_data"
        },
        {
          "name": "stdout",
          "output_type": "stream",
          "text": [
            "Saved RF outputs to rf_outputs/\n"
          ]
        }
      ],
      "source": [
        "# Forecast next HORIZON months using simple future-feature simulation (can be improved)\n",
        "last_idx = int(df['Month_Index'].iloc[-1])\n",
        "future_idx = np.arange(last_idx+1, last_idx+1+HORIZON)\n",
        "future_features = pd.DataFrame({\n",
        "    'Month_Index': future_idx,\n",
        "    'Number of Orders': int(df['Number of Orders'].mean()),\n",
        "    'Customers': int(df['Customers'].mean()),\n",
        "    'Average Order Value': df['Average Order Value'].mean(),\n",
        "    'Seasonality_Flag': [1 if ((i-1)%12+1 in [3,4,8,9,10,12]) else 0 for i in future_idx],\n",
        "    'Fuel Price Index': df['Fuel Price Index'].iloc[-1]\n",
        "})\n",
        "future_inc = rf_inc.predict(future_features)\n",
        "future_exp = rf_exp.predict(future_features)\n",
        "future_cf = future_inc - future_exp\n",
        "forecast = pd.DataFrame({'Predicted_Income': future_inc.round(2), 'Predicted_Expenses': future_exp.round(2), 'Predicted_CashFlow': future_cf.round(2)})\n",
        "forecast['Alert'] = np.where(forecast['Predicted_Expenses']>forecast['Predicted_Income'], 'Yes','No')\n",
        "display(forecast)\n",
        "os.makedirs('rf_outputs', exist_ok=True)\n",
        "forecast.to_csv('rf_outputs/forecast_rf.csv', index=False)\n",
        "pd.DataFrame([['RandomForest','Income',inc_mae,inc_rmse,inc_r2], ['RandomForest','Expenses',exp_mae,exp_rmse,exp_r2]], columns=['Model','Target','MAE','RMSE','R2']).to_csv('rf_outputs/metrics_rf.csv', index=False)\n",
        "print('Saved RF outputs to rf_outputs/')\n"
      ]
    },
    {
      "cell_type": "code",
      "execution_count": 7,
      "metadata": {},
      "outputs": [
        {
          "name": "stdout",
          "output_type": "stream",
          "text": [
            "Feature importances (income):\n",
            "Average Order Value    0.461367\n",
            "Number of Orders       0.246715\n",
            "Fuel Price Index       0.097494\n",
            "Customers              0.093401\n",
            "Month_Index            0.084816\n",
            "Seasonality_Flag       0.016207\n",
            "dtype: float64\n",
            "\n",
            "Recommendations:\n",
            "- Increase AOV: bundling, upsell, premium sku\n",
            "- Increase order frequency via loyalty programs and push notifications\n",
            "- Plan promotions & inventory for seasonal months\n"
          ]
        }
      ],
      "source": [
        "# Feature importance and recommendations\n",
        "importances = pd.Series(rf_inc.feature_importances_, index=feature_cols).sort_values(ascending=False)\n",
        "print('Feature importances (income):')\n",
        "print(importances)\n",
        "recs = []\n",
        "if importances.get('Average Order Value',0) > 0.15:\n",
        "    recs.append('Increase AOV: bundling, upsell, premium sku')\n",
        "if importances.get('Number of Orders',0) > 0.12:\n",
        "    recs.append('Increase order frequency via loyalty programs and push notifications')\n",
        "if df['Seasonality_Flag'].sum()>0:\n",
        "    recs.append('Plan promotions & inventory for seasonal months')\n",
        "print('\\nRecommendations:')\n",
        "for r in recs:\n",
        "    print('-', r)\n"
      ]
    }
  ],
  "metadata": {
    "kernelspec": {
      "display_name": "Python 3",
      "language": "python",
      "name": "python3"
    },
    "language_info": {
      "codemirror_mode": {
        "name": "ipython",
        "version": 3
      },
      "file_extension": ".py",
      "mimetype": "text/x-python",
      "name": "python",
      "nbconvert_exporter": "python",
      "pygments_lexer": "ipython3",
      "version": "3.11.9"
    }
  },
  "nbformat": 4,
  "nbformat_minor": 5
}
