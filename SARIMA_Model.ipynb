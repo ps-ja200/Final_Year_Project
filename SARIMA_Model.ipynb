{
  "cells": [
    {
      "cell_type": "markdown",
      "metadata": {},
      "source": [
        "# MSME Forecasting - Full Notebook\n",
        "This notebook is part of a 4-notebook package: Linear Regression, SARIMA, Random Forest, and Model Comparison.\n",
        "Set `DATASET_INDEX` to choose which CSV from `final_msme_datasets` to use. Forecast horizon is monthly and default is 6 months.\n"
      ]
    },
    {
      "cell_type": "code",
      "execution_count": 1,
      "metadata": {},
      "outputs": [
        {
          "name": "stdout",
          "output_type": "stream",
          "text": [
            "helpers imported\n"
          ]
        }
      ],
      "source": [
        "# Shared imports and helper functions\n",
        "import os, glob\n",
        "import pandas as pd\n",
        "import numpy as np\n",
        "import matplotlib.pyplot as plt\n",
        "from sklearn.metrics import mean_absolute_error, mean_squared_error, r2_score\n",
        "print('helpers imported')\n",
        "def find_csv_files(base='final_msme_datasets'):\n",
        "    # return sorted csv files, handle nested folder\n",
        "    if not os.path.isdir(base):\n",
        "        return []\n",
        "    files = glob.glob(os.path.join(base, '*.csv'))\n",
        "    if len(files)==0:\n",
        "        # check nested\n",
        "        for d in os.listdir(base):\n",
        "            p = os.path.join(base,d)\n",
        "            if os.path.isdir(p):\n",
        "                files += glob.glob(os.path.join(p,'*.csv'))\n",
        "    return sorted(files)\n"
      ]
    },
    {
      "cell_type": "code",
      "execution_count": 10,
      "metadata": {},
      "outputs": [
        {
          "name": "stdout",
          "output_type": "stream",
          "text": [
            "Found 5 files\n",
            "Loaded final_msme_datasets\\final_msme_dataset_1.csv\n",
            "Train/test sizes 800 200\n"
          ]
        }
      ],
      "source": [
        "# Use statsmodels SARIMAX instead of pmdarima\n",
        "from statsmodels.tsa.statespace.sarimax import SARIMAX\n",
        "DATASET_INDEX = 1\n",
        "HORIZON = 6\n",
        "files = find_csv_files()\n",
        "print('Found', len(files), 'files')\n",
        "dataset_path = files[DATASET_INDEX-1]\n",
        "df = pd.read_csv(dataset_path)\n",
        "print('Loaded', dataset_path)\n",
        "df['Total Income (₹)'] = df['Sales Revenue (₹)'] + df['Service Fees (₹)']\n",
        "df['Total Expenses (₹)'] = df[['Rent (₹)','Utilities (₹)','Salaries & Wages (₹)','Raw Materials / Inventory (₹)','Transportation / Logistics (₹)','Loan Repayments & Interest (₹)']].sum(axis=1)\n",
        "df['Net Cash Flow (₹)'] = df['Total Income (₹)'] - df['Total Expenses (₹)']\n",
        "train_size = int(0.8 * len(df))\n",
        "train_inc, test_inc = df['Total Income (₹)'][:train_size], df['Total Income (₹)'][train_size:]\n",
        "train_exp, test_exp = df['Total Expenses (₹)'][:train_size], df['Total Expenses (₹)'][train_size:]\n",
        "print('Train/test sizes', len(train_inc), len(test_inc))"
      ]
    },
    {
      "cell_type": "code",
      "execution_count": 12,
      "metadata": {},
      "outputs": [
        {
          "name": "stdout",
          "output_type": "stream",
          "text": [
            "SARIMA Income -> MAE: 103251.64 RMSE: 121322.31 R2: -0.08\n",
            "SARIMA Expenses-> MAE: 71130.99 RMSE: 85871.12 R2: -0.559\n"
          ]
        }
      ],
      "source": [
        "# SARIMA with statsmodels (yearly seasonality m=12, example order, tune as needed)\n",
        "sarima_inc = SARIMAX(train_inc, order=(1,1,1), seasonal_order=(1,1,1,12)).fit(disp=False)\n",
        "sarima_exp = SARIMAX(train_exp, order=(1,1,1), seasonal_order=(1,1,1,12)).fit(disp=False)\n",
        "y_inc_pred = sarima_inc.predict(start=train_size, end=train_size+len(test_inc)-1)\n",
        "y_exp_pred = sarima_exp.predict(start=train_size, end=train_size+len(test_exp)-1)\n",
        "def metrics(y_true,y_pred):\n",
        "    mae = mean_absolute_error(y_true,y_pred)\n",
        "    rmse = np.sqrt(mean_squared_error(y_true, y_pred))\n",
        "    r2 = r2_score(y_true,y_pred)\n",
        "    return mae, rmse, r2\n",
        "inc_mae, inc_rmse, inc_r2 = metrics(test_inc, y_inc_pred)\n",
        "exp_mae, exp_rmse, exp_r2 = metrics(test_exp, y_exp_pred)\n",
        "print('SARIMA Income -> MAE:', round(inc_mae,2), 'RMSE:', round(inc_rmse,2), 'R2:', round(inc_r2,3))\n",
        "print('SARIMA Expenses-> MAE:', round(exp_mae,2), 'RMSE:', round(exp_rmse,2), 'R2:', round(exp_r2,3))"
      ]
    },
    {
      "cell_type": "code",
      "execution_count": 14,
      "metadata": {},
      "outputs": [
        {
          "data": {
            "text/html": [
              "<div>\n",
              "<style scoped>\n",
              "    .dataframe tbody tr th:only-of-type {\n",
              "        vertical-align: middle;\n",
              "    }\n",
              "\n",
              "    .dataframe tbody tr th {\n",
              "        vertical-align: top;\n",
              "    }\n",
              "\n",
              "    .dataframe thead th {\n",
              "        text-align: right;\n",
              "    }\n",
              "</style>\n",
              "<table border=\"1\" class=\"dataframe\">\n",
              "  <thead>\n",
              "    <tr style=\"text-align: right;\">\n",
              "      <th></th>\n",
              "      <th>Predicted_Income</th>\n",
              "      <th>Predicted_Expenses</th>\n",
              "      <th>Predicted_CashFlow</th>\n",
              "      <th>Alert</th>\n",
              "    </tr>\n",
              "  </thead>\n",
              "  <tbody>\n",
              "    <tr>\n",
              "      <th>1000</th>\n",
              "      <td>297477.90</td>\n",
              "      <td>332602.88</td>\n",
              "      <td>-35124.98</td>\n",
              "      <td>Yes</td>\n",
              "    </tr>\n",
              "    <tr>\n",
              "      <th>1001</th>\n",
              "      <td>313622.76</td>\n",
              "      <td>355321.05</td>\n",
              "      <td>-41698.29</td>\n",
              "      <td>Yes</td>\n",
              "    </tr>\n",
              "    <tr>\n",
              "      <th>1002</th>\n",
              "      <td>288703.77</td>\n",
              "      <td>336523.69</td>\n",
              "      <td>-47819.92</td>\n",
              "      <td>Yes</td>\n",
              "    </tr>\n",
              "    <tr>\n",
              "      <th>1003</th>\n",
              "      <td>275607.36</td>\n",
              "      <td>343536.62</td>\n",
              "      <td>-67929.27</td>\n",
              "      <td>Yes</td>\n",
              "    </tr>\n",
              "    <tr>\n",
              "      <th>1004</th>\n",
              "      <td>305110.42</td>\n",
              "      <td>373125.87</td>\n",
              "      <td>-68015.45</td>\n",
              "      <td>Yes</td>\n",
              "    </tr>\n",
              "    <tr>\n",
              "      <th>1005</th>\n",
              "      <td>293929.24</td>\n",
              "      <td>354670.23</td>\n",
              "      <td>-60740.99</td>\n",
              "      <td>Yes</td>\n",
              "    </tr>\n",
              "  </tbody>\n",
              "</table>\n",
              "</div>"
            ],
            "text/plain": [
              "      Predicted_Income  Predicted_Expenses  Predicted_CashFlow Alert\n",
              "1000         297477.90           332602.88           -35124.98   Yes\n",
              "1001         313622.76           355321.05           -41698.29   Yes\n",
              "1002         288703.77           336523.69           -47819.92   Yes\n",
              "1003         275607.36           343536.62           -67929.27   Yes\n",
              "1004         305110.42           373125.87           -68015.45   Yes\n",
              "1005         293929.24           354670.23           -60740.99   Yes"
            ]
          },
          "metadata": {},
          "output_type": "display_data"
        },
        {
          "name": "stdout",
          "output_type": "stream",
          "text": [
            "Saved SARIMA outputs to sarima_outputs/\n"
          ]
        }
      ],
      "source": [
        "# Forecast next HORIZON months using SARIMAX fitted on full series\n",
        "sarima_inc_full = SARIMAX(df['Total Income (₹)'], order=(1,1,1), seasonal_order=(1,1,1,12)).fit(disp=False)\n",
        "sarima_exp_full = SARIMAX(df['Total Expenses (₹)'], order=(1,1,1), seasonal_order=(1,1,1,12)).fit(disp=False)\n",
        "future_inc = sarima_inc_full.predict(start=len(df), end=len(df)+HORIZON-1)\n",
        "future_exp = sarima_exp_full.predict(start=len(df), end=len(df)+HORIZON-1)\n",
        "future_cf = future_inc - future_exp\n",
        "forecast = pd.DataFrame({'Predicted_Income': future_inc.round(2), 'Predicted_Expenses': future_exp.round(2), 'Predicted_CashFlow': future_cf.round(2)})\n",
        "forecast['Alert'] = np.where(forecast['Predicted_Expenses']>forecast['Predicted_Income'], 'Yes', 'No')\n",
        "display(forecast)\n",
        "os.makedirs('sarima_outputs', exist_ok=True)\n",
        "forecast.to_csv('sarima_outputs/forecast_sarima.csv', index=False)\n",
        "pd.DataFrame([['SARIMA','Income',inc_mae,inc_rmse,inc_r2], ['SARIMA','Expenses',exp_mae,exp_rmse,exp_r2]], columns=['Model','Target','MAE','RMSE','R2']).to_csv('sarima_outputs/metrics_sarima.csv', index=False)\n",
        "print('Saved SARIMA outputs to sarima_outputs/')"
      ]
    }
  ],
  "metadata": {
    "kernelspec": {
      "display_name": "Python 3",
      "language": "python",
      "name": "python3"
    },
    "language_info": {
      "codemirror_mode": {
        "name": "ipython",
        "version": 3
      },
      "file_extension": ".py",
      "mimetype": "text/x-python",
      "name": "python",
      "nbconvert_exporter": "python",
      "pygments_lexer": "ipython3",
      "version": "3.11.9"
    }
  },
  "nbformat": 4,
  "nbformat_minor": 5
}
